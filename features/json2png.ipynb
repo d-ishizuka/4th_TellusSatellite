{
 "metadata": {
  "language_info": {
   "codemirror_mode": {
    "name": "ipython",
    "version": 3
   },
   "file_extension": ".py",
   "mimetype": "text/x-python",
   "name": "python",
   "nbconvert_exporter": "python",
   "pygments_lexer": "ipython3",
   "version": "3.7.6-final"
  },
  "orig_nbformat": 2,
  "kernelspec": {
   "name": "python_defaultSpec_1600524624164",
   "display_name": "Python 3.7.6 64-bit ('kaggle_env3': conda)"
  }
 },
 "nbformat": 4,
 "nbformat_minor": 2,
 "cells": [
  {
   "source": [
    "# json形式で与えられたannotationデータをpng形式に変換する"
   ],
   "cell_type": "markdown",
   "metadata": {}
  },
  {
   "cell_type": "code",
   "execution_count": 1,
   "metadata": {},
   "outputs": [],
   "source": [
    "from glob import glob\n",
    "import json\n",
    "from PIL import Image\n",
    "import cv2\n",
    "\n",
    "import numpy as np\n",
    "%matplotlib inline\n",
    "import matplotlib.pyplot as plt\n",
    "\n",
    "import tifffile\n",
    "from tqdm.auto import tqdm"
   ]
  },
  {
   "cell_type": "code",
   "execution_count": 2,
   "metadata": {},
   "outputs": [],
   "source": [
    "train_tiff_folder = '../data/train_images'\n",
    "train_tiff_paths = glob(train_tiff_folder+'/*.tif')\n",
    "train_anno_folder = '../data/train_annotations'\n",
    "train_anno_paths = glob(train_anno_folder+'/*.json')"
   ]
  },
  {
   "cell_type": "code",
   "execution_count": 3,
   "metadata": {},
   "outputs": [
    {
     "output_type": "execute_result",
     "data": {
      "text/plain": "['../data/train_annotations\\\\train_00.json',\n '../data/train_annotations\\\\train_01.json',\n '../data/train_annotations\\\\train_02.json']"
     },
     "metadata": {},
     "execution_count": 3
    }
   ],
   "source": [
    "train_anno_paths[:3]"
   ]
  },
  {
   "cell_type": "code",
   "execution_count": 4,
   "metadata": {},
   "outputs": [
    {
     "output_type": "execute_result",
     "data": {
      "text/plain": "'00'"
     },
     "metadata": {},
     "execution_count": 4
    }
   ],
   "source": [
    "train_anno_paths[0][-7:-5]"
   ]
  },
  {
   "cell_type": "code",
   "execution_count": 12,
   "metadata": {},
   "outputs": [],
   "source": [
    "for img_path, anno_path in zip(train_tiff_paths, train_anno_paths):\n",
    "\n",
    "    # 画像numberの取得\n",
    "    num = anno_path[-7:-5]\n",
    "\n",
    "    # 画像を読み込み、画素値を0にする\n",
    "    img = tifffile.imread(img_path)\n",
    "    img[...] = 0\n",
    "    img = img.astype(np.uint8)\n",
    "\n",
    "    # json_fileの読み込みと、annotationされた画素を1に変更する\n",
    "    json_data = json.load(open(anno_path))\n",
    "    coastline_points = json_data['coastline_points']\n",
    "    for i in range (0, len(json_data['coastline_points'])):\n",
    "        img[json_data['coastline_points'][i][1],json_data['coastline_points'][i][0]] = 1\n",
    "    \n",
    "    # データの形式を変更\n",
    "    pil_img = Image.fromarray(img)\n",
    "    pil_img = pil_img.convert('P')\n",
    "    pil_img.save('../arranged_data/train_annotations/anno_images{}.png'.format(num))"
   ]
  }
 ]
}